{
 "cells": [
  {
   "cell_type": "code",
   "execution_count": 1,
   "id": "334a2820-bcce-4678-841b-a0089b0bca60",
   "metadata": {},
   "outputs": [],
   "source": [
    "# Load the data\n",
    "# Clean the data\n",
    "# Feature Enginnering\n",
    "# Preproccessing\n",
    "# Modelling\n",
    "# RandomSearching\n",
    "# GridSearchings\n",
    "# Final Project Repat"
   ]
  },
  {
   "cell_type": "code",
   "execution_count": 2,
   "id": "4c412393-22b3-4d33-8b90-5a920127fc93",
   "metadata": {},
   "outputs": [],
   "source": [
    "import pandas as pd\n",
    "import numpy as np\n",
    "import matplotlib.pyplot as plt\n",
    "import sklearn\n",
    "from sklearn.preprocessing import (\n",
    "    StandardScaler,\n",
    "    RobustScaler,\n",
    "    MinMaxScaler,\n",
    "    MaxAbsScaler,\n",
    "    OneHotEncoder,\n",
    "    LabelEncoder,\n",
    "    Normalizer,\n",
    ")\n",
    "from sklearn.model_selection import cross_val_score,train_test_split\n",
    "from sklearn.neighbors import KNeighborsClassifier\n",
    "from sklearn.linear_model import LogisticRegression,LogisticRegressionCV,RidgeClassifier,RidgeClassifierCV\n",
    "from sklearn.naive_bayes import GaussianNB\n",
    "from sklearn.tree import DecisionTreeClassifier\n",
    "from sklearn.ensemble import GradientBoostingClassifier,AdaBoostClassifier,VotingClassifier,BaggingClassifier,RandomForestClassifier\n",
    "from sklearn.svm import SVC\n",
    "from xgboost import XGBClassifier,XGBRFClassifier\n",
    "from catboost import CatBoostClassifier,CatBoost\n",
    "from sklearn.ensemble import BaggingClassifier\n",
    "from sklearn.ensemble import ExtraTreesClassifier\n",
    "np.random.seed(42)"
   ]
  },
  {
   "cell_type": "code",
   "execution_count": 3,
   "id": "630d914e-e1da-4176-9704-540d13abd83d",
   "metadata": {},
   "outputs": [],
   "source": [
    "data = pd.read_csv('./data.csv')"
   ]
  },
  {
   "cell_type": "code",
   "execution_count": 4,
   "id": "0c043a69-de55-48f0-b6c8-1add2c77f874",
   "metadata": {},
   "outputs": [
    {
     "data": {
      "text/html": [
       "<div>\n",
       "<style scoped>\n",
       "    .dataframe tbody tr th:only-of-type {\n",
       "        vertical-align: middle;\n",
       "    }\n",
       "\n",
       "    .dataframe tbody tr th {\n",
       "        vertical-align: top;\n",
       "    }\n",
       "\n",
       "    .dataframe thead th {\n",
       "        text-align: right;\n",
       "    }\n",
       "</style>\n",
       "<table border=\"1\" class=\"dataframe\">\n",
       "  <thead>\n",
       "    <tr style=\"text-align: right;\">\n",
       "      <th></th>\n",
       "      <th>age</th>\n",
       "      <th>workclass</th>\n",
       "      <th>fnlwgt</th>\n",
       "      <th>education</th>\n",
       "      <th>education-num</th>\n",
       "      <th>marital-status</th>\n",
       "      <th>occupation</th>\n",
       "      <th>relationship</th>\n",
       "      <th>race</th>\n",
       "      <th>sex</th>\n",
       "      <th>capital-gain</th>\n",
       "      <th>capital-loss</th>\n",
       "      <th>hours-per-week</th>\n",
       "      <th>native-country</th>\n",
       "      <th>income</th>\n",
       "    </tr>\n",
       "  </thead>\n",
       "  <tbody>\n",
       "    <tr>\n",
       "      <th>0</th>\n",
       "      <td>39</td>\n",
       "      <td>State-gov</td>\n",
       "      <td>77516</td>\n",
       "      <td>Bachelors</td>\n",
       "      <td>13</td>\n",
       "      <td>Never-married</td>\n",
       "      <td>Adm-clerical</td>\n",
       "      <td>Not-in-family</td>\n",
       "      <td>White</td>\n",
       "      <td>Male</td>\n",
       "      <td>2174</td>\n",
       "      <td>0</td>\n",
       "      <td>40</td>\n",
       "      <td>United-States</td>\n",
       "      <td>&lt;=50K</td>\n",
       "    </tr>\n",
       "    <tr>\n",
       "      <th>1</th>\n",
       "      <td>50</td>\n",
       "      <td>Self-emp-not-inc</td>\n",
       "      <td>83311</td>\n",
       "      <td>Bachelors</td>\n",
       "      <td>13</td>\n",
       "      <td>Married-civ-spouse</td>\n",
       "      <td>Exec-managerial</td>\n",
       "      <td>Husband</td>\n",
       "      <td>White</td>\n",
       "      <td>Male</td>\n",
       "      <td>0</td>\n",
       "      <td>0</td>\n",
       "      <td>13</td>\n",
       "      <td>United-States</td>\n",
       "      <td>&lt;=50K</td>\n",
       "    </tr>\n",
       "    <tr>\n",
       "      <th>2</th>\n",
       "      <td>38</td>\n",
       "      <td>Private</td>\n",
       "      <td>215646</td>\n",
       "      <td>HS-grad</td>\n",
       "      <td>9</td>\n",
       "      <td>Divorced</td>\n",
       "      <td>Handlers-cleaners</td>\n",
       "      <td>Not-in-family</td>\n",
       "      <td>White</td>\n",
       "      <td>Male</td>\n",
       "      <td>0</td>\n",
       "      <td>0</td>\n",
       "      <td>40</td>\n",
       "      <td>United-States</td>\n",
       "      <td>&lt;=50K</td>\n",
       "    </tr>\n",
       "    <tr>\n",
       "      <th>3</th>\n",
       "      <td>53</td>\n",
       "      <td>Private</td>\n",
       "      <td>234721</td>\n",
       "      <td>11th</td>\n",
       "      <td>7</td>\n",
       "      <td>Married-civ-spouse</td>\n",
       "      <td>Handlers-cleaners</td>\n",
       "      <td>Husband</td>\n",
       "      <td>Black</td>\n",
       "      <td>Male</td>\n",
       "      <td>0</td>\n",
       "      <td>0</td>\n",
       "      <td>40</td>\n",
       "      <td>United-States</td>\n",
       "      <td>&lt;=50K</td>\n",
       "    </tr>\n",
       "    <tr>\n",
       "      <th>4</th>\n",
       "      <td>28</td>\n",
       "      <td>Private</td>\n",
       "      <td>338409</td>\n",
       "      <td>Bachelors</td>\n",
       "      <td>13</td>\n",
       "      <td>Married-civ-spouse</td>\n",
       "      <td>Prof-specialty</td>\n",
       "      <td>Wife</td>\n",
       "      <td>Black</td>\n",
       "      <td>Female</td>\n",
       "      <td>0</td>\n",
       "      <td>0</td>\n",
       "      <td>40</td>\n",
       "      <td>Cuba</td>\n",
       "      <td>&lt;=50K</td>\n",
       "    </tr>\n",
       "  </tbody>\n",
       "</table>\n",
       "</div>"
      ],
      "text/plain": [
       "   age          workclass   fnlwgt   education   education-num  \\\n",
       "0   39          State-gov    77516   Bachelors              13   \n",
       "1   50   Self-emp-not-inc    83311   Bachelors              13   \n",
       "2   38            Private   215646     HS-grad               9   \n",
       "3   53            Private   234721        11th               7   \n",
       "4   28            Private   338409   Bachelors              13   \n",
       "\n",
       "        marital-status          occupation    relationship    race      sex  \\\n",
       "0        Never-married        Adm-clerical   Not-in-family   White     Male   \n",
       "1   Married-civ-spouse     Exec-managerial         Husband   White     Male   \n",
       "2             Divorced   Handlers-cleaners   Not-in-family   White     Male   \n",
       "3   Married-civ-spouse   Handlers-cleaners         Husband   Black     Male   \n",
       "4   Married-civ-spouse      Prof-specialty            Wife   Black   Female   \n",
       "\n",
       "    capital-gain   capital-loss   hours-per-week  native-country  income  \n",
       "0           2174              0               40   United-States   <=50K  \n",
       "1              0              0               13   United-States   <=50K  \n",
       "2              0              0               40   United-States   <=50K  \n",
       "3              0              0               40   United-States   <=50K  \n",
       "4              0              0               40            Cuba   <=50K  "
      ]
     },
     "execution_count": 4,
     "metadata": {},
     "output_type": "execute_result"
    }
   ],
   "source": [
    "data.head()"
   ]
  },
  {
   "cell_type": "code",
   "execution_count": 5,
   "id": "9222cbd6-2a48-4200-8dd0-0f1462d44b3d",
   "metadata": {},
   "outputs": [
    {
     "data": {
      "text/plain": [
       " <=50K    24720\n",
       " >50K      7841\n",
       "Name:  income, dtype: int64"
      ]
     },
     "execution_count": 5,
     "metadata": {},
     "output_type": "execute_result"
    }
   ],
   "source": [
    "data[' income'].value_counts()"
   ]
  },
  {
   "cell_type": "code",
   "execution_count": 6,
   "id": "e8ed070f-a587-4d23-940e-5c044ac697a2",
   "metadata": {},
   "outputs": [],
   "source": [
    "new_income_labels = {\n",
    "    ' <=50K':0,\n",
    "    ' >50K':1\n",
    "}\n",
    "new_income_list = []\n",
    "for info in data[' income']:\n",
    "    new_income_list.append(new_income_labels[info])"
   ]
  },
  {
   "cell_type": "code",
   "execution_count": 7,
   "id": "ae76370e-15f8-4874-9ac1-13109bdceb3c",
   "metadata": {},
   "outputs": [],
   "source": [
    "data[' income'] = new_income_list"
   ]
  },
  {
   "cell_type": "code",
   "execution_count": 8,
   "id": "1ba469fe-bcae-4f7b-9d8a-27de969a2aef",
   "metadata": {},
   "outputs": [],
   "source": [
    "ohe_cols = []\n",
    "for col_dtype,col_name in zip(data.dtypes,data.columns):\n",
    "    if col_dtype == 'object':\n",
    "        ohe_cols.append(col_name)"
   ]
  },
  {
   "cell_type": "code",
   "execution_count": 9,
   "id": "97122aea-7d55-4f85-b66b-21d4e11d0090",
   "metadata": {},
   "outputs": [],
   "source": [
    "from sklearn.compose import make_column_transformer"
   ]
  },
  {
   "cell_type": "code",
   "execution_count": 10,
   "id": "0220c760-708e-4da9-b20b-893b4a1bc725",
   "metadata": {},
   "outputs": [],
   "source": [
    "from sklearn.model_selection import train_test_split"
   ]
  },
  {
   "cell_type": "code",
   "execution_count": 11,
   "id": "5b41c18f-8c4e-4582-b96d-4f5ccd7aa88a",
   "metadata": {},
   "outputs": [],
   "source": [
    "X = data.drop(' income',axis=1)\n",
    "y = data[' income']\n",
    "X_train,X_test,y_train,y_test = train_test_split(X,y,test_size=0.125)"
   ]
  },
  {
   "cell_type": "code",
   "execution_count": 12,
   "id": "28d68386-17c5-4a48-9a39-866f2be06c43",
   "metadata": {},
   "outputs": [
    {
     "data": {
      "text/plain": [
       "[' workclass',\n",
       " ' education',\n",
       " ' marital-status',\n",
       " ' occupation',\n",
       " ' relationship',\n",
       " ' race',\n",
       " ' sex',\n",
       " ' native-country']"
      ]
     },
     "execution_count": 12,
     "metadata": {},
     "output_type": "execute_result"
    }
   ],
   "source": [
    "ohe_cols"
   ]
  },
  {
   "cell_type": "code",
   "execution_count": 13,
   "id": "e9500a24-7c65-4f6b-bc2f-deb46dc1e83f",
   "metadata": {},
   "outputs": [],
   "source": [
    "mct = make_column_transformer(\n",
    "    (OneHotEncoder(handle_unknown='ignore'),ohe_cols),\n",
    "    remainder='passthrough'\n",
    ")\n",
    "mct.fit(X_train)\n",
    "X_train = mct.transform(X_train).toarray()\n",
    "X_test = mct.transform(X_test).toarray()"
   ]
  },
  {
   "cell_type": "code",
   "execution_count": 14,
   "id": "cb3d6298-5f24-4115-9192-a06f03b1421e",
   "metadata": {},
   "outputs": [],
   "source": [
    "pres = [StandardScaler(),RobustScaler(),MinMaxScaler(),MaxAbsScaler(),Normalizer(),LabelEncoder()]\n",
    "label_encoding = False"
   ]
  },
  {
   "cell_type": "code",
   "execution_count": 24,
   "id": "02c401d8-56fe-49b8-a622-ae20e847818f",
   "metadata": {},
   "outputs": [],
   "source": [
    "from sklearn.metrics import precision_score,f1_score,recall_score,accuracy_score,plot_roc_curve,plot_confusion_matrix"
   ]
  },
  {
   "cell_type": "code",
   "execution_count": 25,
   "id": "f9907138-199f-410d-a7bf-661bcc9ce190",
   "metadata": {},
   "outputs": [],
   "source": [
    "import wandb"
   ]
  },
  {
   "cell_type": "code",
   "execution_count": 26,
   "id": "98674f7b-fb73-4038-a699-10c43fd0f062",
   "metadata": {},
   "outputs": [],
   "source": [
    "PROJECT_NAME = 'Income-Clf'"
   ]
  },
  {
   "cell_type": "code",
   "execution_count": 33,
   "id": "5fb0a589-b2ed-408f-8e27-1d26e79d9ddc",
   "metadata": {},
   "outputs": [],
   "source": [
    "def valid(model,X,y,val=False):\n",
    "    preds = model.predict(X)\n",
    "    if val is True:\n",
    "        results = {\n",
    "            'Val Precision':precision_score(y_true=y,y_pred=preds),\n",
    "            'Val F1':f1_score(y_true=y,y_pred=preds),\n",
    "            'Val Recall':recall_score(y_true=y,y_pred=preds),\n",
    "            'Val Accuracy':accuracy_score(y_true=y,y_pred=preds),\n",
    "        }\n",
    "    else:\n",
    "        results = {\n",
    "            'Precision':precision_score(y_true=y,y_pred=preds),\n",
    "            'F1':f1_score(y_true=y,y_pred=preds),\n",
    "            'Recall':recall_score(y_true=y,y_pred=preds),\n",
    "            'Accuracy':accuracy_score(y_true=y,y_pred=preds),\n",
    "        }\n",
    "    return results \n",
    "def fit(model,X_train,X_test,y_train,y_test,name):\n",
    "    wandb.init(project=PROJECT_NAME,name=name)\n",
    "    model = model\n",
    "    model.fit(X_train,y_train)\n",
    "    wandb.log(valid(model,X_train,y_train))\n",
    "    wandb.log(valid(model,X_test,y_test,True))\n",
    "    plot_roc_curve(model,X_train,y_train)\n",
    "    plt.savefig('./img.png')\n",
    "    wandb.log({'Roc':wandb.Image(cv2.imread('./img.png'))})\n",
    "    plot_roc_curve(model,X_test,y_test)\n",
    "    plt.savefig('./img.png')\n",
    "    wandb.log({'Val Roc':wandb.Image(cv2.imread('./img.png'))})\n",
    "    plot_confusion_matrix(model,X_train,y_train)\n",
    "    plt.savefig('./img.png')\n",
    "    wandb.log({'Confusion Matrix':wandb.Image(cv2.imread('./img.png'))})\n",
    "    plot_confusion_matrix(model,X_test,y_test)\n",
    "    plt.savefig('./img.png')\n",
    "    wandb.log({'Val Confusion Matrix':wandb.Image(cv2.imread('./img.png'))})\n",
    "    return model"
   ]
  },
  {
   "cell_type": "code",
   "execution_count": 34,
   "id": "28627d3b-0172-4a0e-a161-2bd9f1eb0b63",
   "metadata": {},
   "outputs": [],
   "source": [
    "import cv2"
   ]
  },
  {
   "cell_type": "code",
   "execution_count": 36,
   "id": "274e7233-5fef-4cbb-8575-b31c83cbf7d2",
   "metadata": {},
   "outputs": [
    {
     "data": {
      "text/html": [
       "Finishing last run (ID:28aonmzb) before initializing another..."
      ],
      "text/plain": [
       "<IPython.core.display.HTML object>"
      ]
     },
     "metadata": {},
     "output_type": "display_data"
    },
    {
     "data": {
      "text/html": [
       "<br/>Waiting for W&B process to finish, PID 104721<br/>Program ended successfully."
      ],
      "text/plain": [
       "<IPython.core.display.HTML object>"
      ]
     },
     "metadata": {},
     "output_type": "display_data"
    },
    {
     "data": {
      "application/vnd.jupyter.widget-view+json": {
       "model_id": "53649f7f4c2d46c7bc7f45fbcda03d75",
       "version_major": 2,
       "version_minor": 0
      },
      "text/plain": [
       "VBox(children=(Label(value=' 0.04MB of 0.04MB uploaded (0.00MB deduped)\\r'), FloatProgress(value=1.0, max=1.0)…"
      ]
     },
     "metadata": {},
     "output_type": "display_data"
    },
    {
     "name": "stderr",
     "output_type": "stream",
     "text": [
      "\u001b[34m\u001b[1mwandb\u001b[0m: \u001b[32m\u001b[41mERROR\u001b[0m Control-C detected -- Run data was not synced\n"
     ]
    },
    {
     "data": {
      "text/html": [
       "...Successfully finished last run (ID:28aonmzb). Initializing new run:<br/><br/>"
      ],
      "text/plain": [
       "<IPython.core.display.HTML object>"
      ]
     },
     "metadata": {},
     "output_type": "display_data"
    },
    {
     "name": "stderr",
     "output_type": "stream",
     "text": [
      "\u001b[34m\u001b[1mwandb\u001b[0m: wandb version 0.11.2 is available!  To upgrade, please run:\n",
      "\u001b[34m\u001b[1mwandb\u001b[0m:  $ pip install wandb --upgrade\n"
     ]
    },
    {
     "data": {
      "text/html": [
       "\n",
       "                Tracking run with wandb version 0.10.33<br/>\n",
       "                Syncing run <strong style=\"color:#cdcd00\">baseline</strong> to <a href=\"https://wandb.ai\" target=\"_blank\">Weights & Biases</a> <a href=\"https://docs.wandb.com/integrations/jupyter.html\" target=\"_blank\">(Documentation)</a>.<br/>\n",
       "                Project page: <a href=\"https://wandb.ai/ranuga-d/Income-Clf\" target=\"_blank\">https://wandb.ai/ranuga-d/Income-Clf</a><br/>\n",
       "                Run page: <a href=\"https://wandb.ai/ranuga-d/Income-Clf/runs/4v7cjq7x\" target=\"_blank\">https://wandb.ai/ranuga-d/Income-Clf/runs/4v7cjq7x</a><br/>\n",
       "                Run data is saved locally in <code>/home/indika/Programming/Projects/Python/Artifical-Intelligence/Sklearn/Classification/Income-classification/wandb/run-20210810_121105-4v7cjq7x</code><br/><br/>\n",
       "            "
      ],
      "text/plain": [
       "<IPython.core.display.HTML object>"
      ]
     },
     "metadata": {},
     "output_type": "display_data"
    },
    {
     "data": {
      "text/plain": [
       "GradientBoostingClassifier()"
      ]
     },
     "execution_count": 36,
     "metadata": {},
     "output_type": "execute_result"
    },
    {
     "data": {
      "image/png": "[encoded data removed]",
      "text/plain": [
       "<Figure size 432x288 with 1 Axes>"
      ]
     },
     "metadata": {
      "needs_background": "light"
     },
     "output_type": "display_data"
    },
    {
     "data": {
      "image/png": "[encoded data removed]",
      "text/plain": [
       "<Figure size 432x288 with 1 Axes>"
      ]
     },
     "metadata": {
      "needs_background": "light"
     },
     "output_type": "display_data"
    },
    {
     "data": {
      "image/png": "[encoded data removed]",
      "text/plain": [
       "<Figure size 432x288 with 2 Axes>"
      ]
     },
     "metadata": {
      "needs_background": "light"
     },
     "output_type": "display_data"
    },
    {
     "data": {
      "image/png": "[encoded data removed]",
      "text/plain": [
       "<Figure size 432x288 with 2 Axes>"
      ]
     },
     "metadata": {
      "needs_background": "light"
     },
     "output_type": "display_data"
    }
   ],
   "source": [
    "fit(GradientBoostingClassifier(),X_train,X_test,y_train,y_test,f'baseline')"
   ]
  },
  {
   "cell_type": "code",
   "execution_count": 40,
   "id": "059917a2-cdfa-4c92-81f8-71550beb11e6",
   "metadata": {},
   "outputs": [],
   "source": [
    "X = data.drop(' income',axis=1)\n",
    "y = data[' income']\n",
    "X_train,X_test,y_train,y_test = train_test_split(X,y,test_size=0.125)\n",
    "mct = make_column_transformer(\n",
    "    (OneHotEncoder(handle_unknown='ignore'),ohe_cols),\n",
    "    (RobustScaler(),X.drop(ohe_cols,axis=1).columns),\n",
    "    remainder='passthrough'\n",
    ")\n",
    "mct.fit(X_train)\n",
    "X_train = mct.transform(X_train).toarray()\n",
    "X_test = mct.transform(X_test).toarray()"
   ]
  },
  {
   "cell_type": "code",
   "execution_count": 42,
   "id": "ea66a0b3-5210-44ee-bf8d-d7c606cfef30",
   "metadata": {},
   "outputs": [],
   "source": [
    "models = [\n",
    "    ['KNeighborsClassifier',KNeighborsClassifier],\n",
    "    ['LogisticRegression',LogisticRegression],\n",
    "    ['LogisticRegressionCV',LogisticRegressionCV],\n",
    "    ['RidgeClassifier',RidgeClassifier],\n",
    "    ['RidgeClassifierCV',RidgeClassifierCV],\n",
    "    ['GaussianNB',GaussianNB],\n",
    "    ['DecisionTreeClassifier',DecisionTreeClassifier],\n",
    "    ['GradientBoostingClassifier',GradientBoostingClassifier],\n",
    "    ['AdaBoostClassifier',AdaBoostClassifier],\n",
    "    ['RandomForestClassifier',RandomForestClassifier],\n",
    "    ['BaggingClassifier',BaggingClassifier],\n",
    "    ['SVC',SVC],\n",
    "    ['XGBClassifier',XGBClassifier],\n",
    "    ['XGBRFClassifier',XGBRFClassifier],\n",
    "    ['CatBoostClassifier',CatBoostClassifier],\n",
    "]"
   ]
  },
  {
   "cell_type": "code",
   "execution_count": 44,
   "id": "0e582b49-bf5a-4cfe-8881-a7aa6777463a",
   "metadata": {},
   "outputs": [],
   "source": [
    "# for model in models:\n",
    "#     fit(model[1](),X_train,X_test,y_train,y_test,model[0])"
   ]
  },
  {
   "cell_type": "code",
   "execution_count": 45,
   "id": "8fb3d547-06e2-48b4-b532-96086be18b35",
   "metadata": {},
   "outputs": [],
   "source": [
    "from sklearn.model_selection import GridSearchCV"
   ]
  },
  {
   "cell_type": "code",
   "execution_count": 53,
   "id": "73015e65-1014-42f7-a9b2-fd058aa4b150",
   "metadata": {},
   "outputs": [
    {
     "data": {
      "text/html": [
       "Finishing last run (ID:1i7tziad) before initializing another..."
      ],
      "text/plain": [
       "<IPython.core.display.HTML object>"
      ]
     },
     "metadata": {},
     "output_type": "display_data"
    },
    {
     "data": {
      "text/html": [
       "<br/>Waiting for W&B process to finish, PID 185853<br/>Program ended successfully."
      ],
      "text/plain": [
       "<IPython.core.display.HTML object>"
      ]
     },
     "metadata": {},
     "output_type": "display_data"
    },
    {
     "data": {
      "application/vnd.jupyter.widget-view+json": {
       "model_id": "",
       "version_major": 2,
       "version_minor": 0
      },
      "text/plain": [
       "VBox(children=(Label(value=' 0.02MB of 0.02MB uploaded (0.00MB deduped)\\r'), FloatProgress(value=1.0, max=1.0)…"
      ]
     },
     "metadata": {},
     "output_type": "display_data"
    },
    {
     "data": {
      "text/html": [
       "Find user logs for this run at: <code>/home/indika/Programming/Projects/Python/Artifical-Intelligence/Sklearn/Classification/Income-classification/wandb/run-20210810_135647-1i7tziad/logs/debug.log</code>"
      ],
      "text/plain": [
       "<IPython.core.display.HTML object>"
      ]
     },
     "metadata": {},
     "output_type": "display_data"
    },
    {
     "data": {
      "text/html": [
       "Find internal logs for this run at: <code>/home/indika/Programming/Projects/Python/Artifical-Intelligence/Sklearn/Classification/Income-classification/wandb/run-20210810_135647-1i7tziad/logs/debug-internal.log</code>"
      ],
      "text/plain": [
       "<IPython.core.display.HTML object>"
      ]
     },
     "metadata": {},
     "output_type": "display_data"
    },
    {
     "data": {
      "text/html": [
       "<h3>Run summary:</h3><br/><style>\n",
       "    table.wandb td:nth-child(1) { padding: 0 10px; text-align: right }\n",
       "    </style><table class=\"wandb\">\n",
       "<tr><td>Precision</td><td>1.0</td></tr><tr><td>F1</td><td>0.99993</td></tr><tr><td>Recall</td><td>0.99985</td></tr><tr><td>Accuracy</td><td>0.99996</td></tr><tr><td>_runtime</td><td>7</td></tr><tr><td>_timestamp</td><td>1628584028</td></tr><tr><td>_step</td><td>5</td></tr><tr><td>Val Precision</td><td>0.63636</td></tr><tr><td>Val F1</td><td>0.61922</td></tr><tr><td>Val Recall</td><td>0.60297</td></tr><tr><td>Val Accuracy</td><td>0.81602</td></tr></table>"
      ],
      "text/plain": [
       "<IPython.core.display.HTML object>"
      ]
     },
     "metadata": {},
     "output_type": "display_data"
    },
    {
     "data": {
      "text/html": [
       "<h3>Run history:</h3><br/><style>\n",
       "    table.wandb td:nth-child(1) { padding: 0 10px; text-align: right }\n",
       "    </style><table class=\"wandb\">\n",
       "<tr><td>Precision</td><td>▁</td></tr><tr><td>F1</td><td>▁</td></tr><tr><td>Recall</td><td>▁</td></tr><tr><td>Accuracy</td><td>▁</td></tr><tr><td>_runtime</td><td>▁▁████</td></tr><tr><td>_timestamp</td><td>▁▁████</td></tr><tr><td>_step</td><td>▁▂▄▅▇█</td></tr><tr><td>Val Precision</td><td>▁</td></tr><tr><td>Val F1</td><td>▁</td></tr><tr><td>Val Recall</td><td>▁</td></tr><tr><td>Val Accuracy</td><td>▁</td></tr></table><br/>"
      ],
      "text/plain": [
       "<IPython.core.display.HTML object>"
      ]
     },
     "metadata": {},
     "output_type": "display_data"
    },
    {
     "data": {
      "text/html": [
       "Synced 6 W&B file(s), 4 media file(s), 0 artifact file(s) and 0 other file(s)"
      ],
      "text/plain": [
       "<IPython.core.display.HTML object>"
      ]
     },
     "metadata": {},
     "output_type": "display_data"
    },
    {
     "data": {
      "text/html": [
       "\n",
       "                    <br/>Synced <strong style=\"color:#cdcd00\">Grid Search</strong>: <a href=\"https://wandb.ai/ranuga-d/Income-Clf/runs/1i7tziad\" target=\"_blank\">https://wandb.ai/ranuga-d/Income-Clf/runs/1i7tziad</a><br/>\n",
       "                "
      ],
      "text/plain": [
       "<IPython.core.display.HTML object>"
      ]
     },
     "metadata": {},
     "output_type": "display_data"
    },
    {
     "data": {
      "text/html": [
       "...Successfully finished last run (ID:1i7tziad). Initializing new run:<br/><br/>"
      ],
      "text/plain": [
       "<IPython.core.display.HTML object>"
      ]
     },
     "metadata": {},
     "output_type": "display_data"
    },
    {
     "name": "stderr",
     "output_type": "stream",
     "text": [
      "\u001b[34m\u001b[1mwandb\u001b[0m: wandb version 0.11.2 is available!  To upgrade, please run:\n",
      "\u001b[34m\u001b[1mwandb\u001b[0m:  $ pip install wandb --upgrade\n"
     ]
    },
    {
     "data": {
      "text/html": [
       "\n",
       "                Tracking run with wandb version 0.10.33<br/>\n",
       "                Syncing run <strong style=\"color:#cdcd00\">Grid Search</strong> to <a href=\"https://wandb.ai\" target=\"_blank\">Weights & Biases</a> <a href=\"https://docs.wandb.com/integrations/jupyter.html\" target=\"_blank\">(Documentation)</a>.<br/>\n",
       "                Project page: <a href=\"https://wandb.ai/ranuga-d/Income-Clf\" target=\"_blank\">https://wandb.ai/ranuga-d/Income-Clf</a><br/>\n",
       "                Run page: <a href=\"https://wandb.ai/ranuga-d/Income-Clf/runs/iqhp312b\" target=\"_blank\">https://wandb.ai/ranuga-d/Income-Clf/runs/iqhp312b</a><br/>\n",
       "                Run data is saved locally in <code>/home/indika/Programming/Projects/Python/Artifical-Intelligence/Sklearn/Classification/Income-classification/wandb/run-20210810_145710-iqhp312b</code><br/><br/>\n",
       "            "
      ],
      "text/plain": [
       "<IPython.core.display.HTML object>"
      ]
     },
     "metadata": {},
     "output_type": "display_data"
    },
    {
     "data": {
      "image/png": "[encoded data removed]",
      "text/plain": [
       "<Figure size 432x288 with 1 Axes>"
      ]
     },
     "metadata": {
      "needs_background": "light"
     },
     "output_type": "display_data"
    },
    {
     "data": {
      "image/png": "[encoded data removed]",
      "text/plain": [
       "<Figure size 432x288 with 1 Axes>"
      ]
     },
     "metadata": {
      "needs_background": "light"
     },
     "output_type": "display_data"
    },
    {
     "data": {
      "image/png": "[encoded data removed]",
      "text/plain": [
       "<Figure size 432x288 with 2 Axes>"
      ]
     },
     "metadata": {
      "needs_background": "light"
     },
     "output_type": "display_data"
    },
    {
     "data": {
      "image/png": "[encoded data removed]",
      "text/plain": [
       "<Figure size 432x288 with 2 Axes>"
      ]
     },
     "metadata": {
      "needs_background": "light"
     },
     "output_type": "display_data"
    }
   ],
   "source": [
    "model = RandomForestClassifier()\n",
    "model = fit(model,X_train,X_test,y_train,y_test,f'Grid Search')\n",
    "import pickle\n",
    "pickle.dump(model,open('./model.pkl','wb'))"
   ]
  },
  {
   "cell_type": "code",
   "execution_count": null,
   "id": "39b469a0-ed52-41ba-95a6-ba1684ebdd7a",
   "metadata": {},
   "outputs": [],
   "source": []
  }
 ],
 "metadata": {
  "kernelspec": {
   "display_name": "Python 3.7.3 64-bit ('base': conda)",
   "language": "python",
   "name": "python373jvsc74a57bd0210f9608a45c0278a93c9e0b10db32a427986ab48cfc0d20c139811eb78c4bbc"
  },
  "language_info": {
   "codemirror_mode": {
    "name": "ipython",
    "version": 3
   },
   "file_extension": ".py",
   "mimetype": "text/x-python",
   "name": "python",
   "nbconvert_exporter": "python",
   "pygments_lexer": "ipython3",
   "version": "3.7.7"
  }
 },
 "nbformat": 4,
 "nbformat_minor": 5
}
